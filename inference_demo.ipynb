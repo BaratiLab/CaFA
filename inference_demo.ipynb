{
 "cells": [
  {
   "cell_type": "code",
   "execution_count": 1,
   "metadata": {},
   "outputs": [],
   "source": [
    "### import lib and helper functions\n",
    "\n",
    "import numpy as np\n",
    "from tqdm import tqdm\n",
    "import torch\n",
    "import torch.nn as nn\n",
    "from einops import rearrange, repeat, reduce\n",
    "import os\n",
    "import yaml, shutil\n",
    "\n",
    "import wandb\n",
    "from torch.utils.data import DataLoader\n",
    "from weather_transformer import CaFAEPD\n",
    "from dynamics_training_loop import configure_epd_models, configure_train_dataset_and_loader, configure_residual_stat, epd_predict\n",
    "from utils.loss_utils import latitude_weighted_rmse\n",
    "from utils.training_utils import dict2namespace\n",
    "import gc\n",
    "import xarray as xr\n",
    "from datetime import datetime,timedelta                                                                                                                                 "
   ]
  },
  {
   "cell_type": "code",
   "execution_count": null,
   "metadata": {},
   "outputs": [],
   "source": [
    "### set the device， it is recommended to use GPU\n",
    "device = 'cuda:0'\n",
    "\n",
    "### load the config which was used to train the model\n",
    "with open('configs/era5-EPD-6432-stage2.yml', 'r') as f:\n",
    "    config = yaml.safe_load(f)\n",
    "config = dict2namespace(config)\n",
    "model = configure_epd_models(config)    # load model\n",
    "\n",
    "\n",
    "### load checkpoint, change the ckpt path correspondingly\n",
    "ckpt_path = 'experiments/pretrained_ckpt/ema_last_6432.pth'\n",
    "model.load_state_dict(torch.load(ckpt_path)['model'])\n",
    "model.to(device)\n",
    "model.eval()\n",
    "print('loaded successfully')"
   ]
  },
  {
   "cell_type": "code",
   "execution_count": null,
   "metadata": {},
   "outputs": [],
   "source": [
    "### prepare dataset's normalization statistics\n",
    "train_dataset, _ = configure_train_dataset_and_loader(2, 1, config)    # the train dataset is just used to get the normalization statistics\n",
    "normalizer = train_dataset.datareader.normalizer\n",
    "\n",
    "# get the constant feature\n",
    "constant_names = config.data.constant_names\n",
    "constants = torch.from_numpy(train_dataset.datareader.constants).float().unsqueeze(0)\n",
    "\n",
    "### load residual normalizer, which is used to de-normalize output of the model\n",
    "residual_normalizer = configure_residual_stat(config)\n",
    "# to device\n",
    "residual_normalizer = residual_normalizer.to(device) \n"
   ]
  },
  {
   "cell_type": "code",
   "execution_count": 4,
   "metadata": {},
   "outputs": [],
   "source": [
    "### fetch data point from xarray dataset of WeatherBench 2\n",
    "def fetch_and_process(dat_path,\n",
    "                      init_time_coord,     # datetime of the initial condition\n",
    "                      ):\n",
    "    ds = xr.open_zarr(dat_path)\n",
    "    # a slice of time coords\n",
    "    time_coord = slice(init_time_coord, init_time_coord + timedelta(hours=6)*28)   # hardcode the forecast length to a week\n",
    "    ds = ds.sel(time=time_coord)   # select the initial condition\n",
    "\n",
    "    variable_groups = config.data.variable_groups\n",
    "    # flatten the variable groups\n",
    "    feature_names = [item for sublist in variable_groups for item in sublist]\n",
    "\n",
    "    # get the data by variable name\n",
    "    input_feat_dict = {}\n",
    "    out_feat_dict = {}\n",
    "    for var_name in feature_names:\n",
    "        # transpose the latitude and longitude\n",
    "        feat = ds[var_name].values\n",
    "        if len(feat.shape) == 4:  # t, levels, nlon, nlat -> t, nlat, nlon, levels\n",
    "            feat = np.transpose(feat, (0, 3, 2, 1))\n",
    "        elif len(feat.shape) == 3:  # t, nlon, nlat -> t, nlat, nlon\n",
    "            feat = np.transpose(feat, (0, 2, 1))\n",
    "\n",
    "        input_feat_dict[var_name] = torch.from_numpy(feat[0]).float().unsqueeze(0)   # only use the first time step as input\n",
    "        out_feat_dict[var_name] = torch.from_numpy(feat[1:]).float().unsqueeze(0) \n",
    "\n",
    "    return input_feat_dict, out_feat_dict\n"
   ]
  },
  {
   "cell_type": "code",
   "execution_count": 5,
   "metadata": {},
   "outputs": [],
   "source": [
    "### try prediction on 2018-01-01 00:00:00\n",
    "init_time = datetime(2018, 1, 1, 0, 0, 0)\n",
    "### change to the path of the xr dataset\n",
    "dat_path = '/home/cmu-mail-3090/Zijie_2/pde_data/1959-2022-6h-64x32_equiangular_with_poles_conservative.zarr'\n",
    "### get the input and output features\n",
    "input_dict, target_dict = fetch_and_process(dat_path, init_time)"
   ]
  },
  {
   "cell_type": "code",
   "execution_count": 6,
   "metadata": {},
   "outputs": [
    {
     "data": {
      "text/plain": [
       "torch.Size([1, 28, 32, 64])"
      ]
     },
     "execution_count": 6,
     "metadata": {},
     "output_type": "execute_result"
    }
   ],
   "source": [
    "target_dict['2m_temperature'].shape"
   ]
  },
  {
   "cell_type": "code",
   "execution_count": 7,
   "metadata": {},
   "outputs": [],
   "source": [
    "### use epd_predict to predict the output\n",
    "with torch.no_grad():\n",
    "    torch.cuda.empty_cache()\n",
    "    loss_dict, pred_dict = epd_predict(model, [1, 4, 12, 20, 28], input_dict, target_dict, constants,\n",
    "                                    normalizer,\n",
    "                                    residual_normalizer,\n",
    "                                    latitude_weighted_rmse,\n",
    "                                    config=config,\n",
    "                                    device=device,\n",
    "                                    return_pred=True)"
   ]
  },
  {
   "cell_type": "code",
   "execution_count": 8,
   "metadata": {},
   "outputs": [
    {
     "data": {
      "text/plain": [
       "tensor([[0.3263, 0.5097, 0.8088, 1.2526, 1.8833]], device='cuda:0',\n",
       "       dtype=torch.float64)"
      ]
     },
     "execution_count": 8,
     "metadata": {},
     "output_type": "execute_result"
    }
   ],
   "source": [
    "### checkout the loss at different lead time: 6hr 1day 3day 5day 7day\n",
    "loss_dict['2m_temperature']"
   ]
  },
  {
   "cell_type": "code",
   "execution_count": 9,
   "metadata": {},
   "outputs": [
    {
     "data": {
      "image/png": "[encoded data removed]",
      "text/plain": [
       "<Figure size 1000x500 with 2 Axes>"
      ]
     },
     "metadata": {},
     "output_type": "display_data"
    }
   ],
   "source": [
    "### visualize the prediction and target\n",
    "from matplotlib import pyplot as plt\n",
    "\n",
    "fig, axs = plt.subplots(1, 2, figsize=(10, 5))\n",
    "# prediction\n",
    "axs[0].imshow(pred_dict['2m_temperature'][0, 0].cpu().numpy(), cmap='RdBu_r')\n",
    "axs[0].set_title('Prediction')\n",
    "# target\n",
    "axs[1].imshow(target_dict['2m_temperature'][0, 0].cpu().numpy(), cmap='RdBu_r')\n",
    "axs[1].set_title('Target')\n",
    "plt.show()\n"
   ]
  },
  {
   "cell_type": "code",
   "execution_count": null,
   "metadata": {},
   "outputs": [],
   "source": []
  }
 ],
 "metadata": {
  "kernelspec": {
   "display_name": "cafa",
   "language": "python",
   "name": "python3"
  },
  "language_info": {
   "codemirror_mode": {
    "name": "ipython",
    "version": 3
   },
   "file_extension": ".py",
   "mimetype": "text/x-python",
   "name": "python",
   "nbconvert_exporter": "python",
   "pygments_lexer": "ipython3",
   "version": "3.9.18"
  }
 },
 "nbformat": 4,
 "nbformat_minor": 2
}
